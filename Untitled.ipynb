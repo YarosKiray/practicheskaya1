{
 "cells": [
  {
   "cell_type": "code",
   "execution_count": 2,
   "id": "7c8c7ae3-e96b-4756-b5b8-7bb12f779f96",
   "metadata": {
    "tags": []
   },
   "outputs": [
    {
     "data": {
      "text/plain": [
       "{1: True, 10: True, 100: True, 1000: True, 10000: True}"
      ]
     },
     "execution_count": 2,
     "metadata": {},
     "output_type": "execute_result"
    }
   ],
   "source": [
    "def is_O_n2(n):\n",
    "    f_n = 2 * n**2 + 10 * n + 3\n",
    "    \n",
    "    c = 15\n",
    "    O_n2 = c * n**2\n",
    "    \n",
    "\n",
    "    return f_n <= O_n2\n",
    "\n",
    "n_values = [1, 10, 100, 1000, 10000]\n",
    "results = {n: is_O_n2(n) for n in n_values}\n",
    "\n",
    "results"
   ]
  }
 ],
 "metadata": {
  "kernelspec": {
   "display_name": "Python 3 (ipykernel)",
   "language": "python",
   "name": "python3"
  },
  "language_info": {
   "codemirror_mode": {
    "name": "ipython",
    "version": 3
   },
   "file_extension": ".py",
   "mimetype": "text/x-python",
   "name": "python",
   "nbconvert_exporter": "python",
   "pygments_lexer": "ipython3",
   "version": "3.11.7"
  }
 },
 "nbformat": 4,
 "nbformat_minor": 5
}
